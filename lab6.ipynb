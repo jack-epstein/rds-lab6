{
 "cells": [
  {
   "cell_type": "markdown",
   "metadata": {},
   "source": [
    "## Lab 6- MLInspect"
   ]
  },
  {
   "cell_type": "markdown",
   "metadata": {},
   "source": [
    "### Overview of the example from the paper\n",
    "\n",
    "\n",
    "![paper_example_image](paper_example_image.png)\n",
    "\n",
    "Example of an ML pipeline that predicts which patients are at a higher risk of serious complications, under the requirement to achieve comparable false negative rates across intersectional groups by age and race. The pipeline is implemented using native constructs from the popular pandas and scikit-learn libraries. On the left, we highlight potential issues identified by mlinspect. On the right, we show the corresponding dataflow graph extracted by mlinspect to instrument the code and pinpoint issues."
   ]
  },
  {
   "cell_type": "markdown",
   "metadata": {},
   "source": [
    "## Task\n",
    "Operators like joins, selections and missing value imputaters can cause data distribution issues, which can heavily impact the performance of our model for specific demographic groups. Mlinspect helps with identifying such issues by offering a check that calculates histograms for sensitive groups in the data and verifying whether the histogram change is significant enough to alert the user. Thanks to our annotation propagation, we can deal with complex code involving things like nested sklearn pipelines and group memberships that are removed from the training data using projections.\n",
    "\n",
    "We want to find out if preprocessing operations in pipelines introduce bias and if so, which groups are effected. The pipeline we want to analyse in this task can be found using the path os.path.join(str(get_project_root()), \"experiments\", \"user_interviews\", \"adult_simple_modified.py\"). The senstive attributes we want to take a look at are race and sex.\n",
    "\n",
    "It is using a benchmark dataset frequently used in the algorithmic fairness literature. Adult income contains information about 33,000 individuals from the 1994 U.S. census, with sensitive attributes gender and race. The corresponding task is to predict whether the annual income of an individual exceeds $50,000. We took this existing data set and only modified it slightly by introducing an artificial issue which we will now try to find using mlinspect.\n",
    "\n",
    "The code of the pipeline:\n",
    "\n",
    "> ```python\n",
    "> \"\"\"\n",
    "> Adult income pipeline\n",
    "> \"\"\"\n",
    "> import os\n",
    "> import pandas as pd\n",
    "> from sklearn import compose, preprocessing, tree, pipeline\n",
    "> \n",
    "> from mlinspect.utils import get_project_root\n",
    "> \n",
    "> print('pipeline start')\n",
    "> \n",
    "> train_file_a = os.path.join(str(get_project_root()), \"experiments\", \"user_interviews\", \"adult_simple_train_a.csv\")\n",
    "> raw_data_a = pd.read_csv(train_file_a, na_values='?', index_col=0)\n",
    "> \n",
    "> train_file_b = os.path.join(str(get_project_root()), \"experiments\", \"user_interviews\", \"adult_simple_train_b.csv\")\n",
    "> raw_data_b = pd.read_csv(train_file_b, na_values='?', index_col=0)\n",
    "> \n",
    "> merged_raw_data = raw_data_a.merge(raw_data_b, on=\"id\")\n",
    "> \n",
    "> data = merged_raw_data.dropna()\n",
    "> \n",
    "> labels = preprocessing.label_binarize(data['income-per-year'], classes=['>50K', '<=50K'])\n",
    "> \n",
    "> column_transformer = compose.ColumnTransformer(transformers=[\n",
    ">     ('categorical', preprocessing.OneHotEncoder(handle_unknown='ignore'), ['education', 'workclass']),\n",
    ">     ('numeric', preprocessing.StandardScaler(), ['age', 'hours-per-week'])\n",
    "> ])\n",
    "> adult_income_pipeline = pipeline.Pipeline([\n",
    ">     ('features', column_transformer),\n",
    ">     ('classifier', tree.DecisionTreeClassifier())])\n",
    "> \n",
    "> adult_income_pipeline.fit(data, labels)\n",
    "> print('pipeline finished')\n",
    "> ```"
   ]
  },
  {
   "cell_type": "markdown",
   "metadata": {},
   "source": [
    "# Step 1/4: Add check and execute the pipeline\n",
    "\n",
    "The central entry point of mlinspect is the `PipelineInspector`. To use mlinspect, we use it and pass it the path to the runnable version of the example pipeline. Here, we have the example pipeline in a `.py` file. \n",
    "\n",
    "First, we define the check we want mlinspect to run. In this example, we only use `NoBiasIntroducedFor([\"col1\", \"col2\", ...])` to automatically check for significant changes in the distribution of sensitive demograhpic groups and compute the histograms.\n",
    "\n",
    "Then, we execute the pipeline. Mlinspect returns a `InspectorResult`, which, among other information, contains the output of our check. "
   ]
  },
  {
   "cell_type": "code",
   "execution_count": 2,
   "metadata": {},
   "outputs": [
    {
     "ename": "ModuleNotFoundError",
     "evalue": "No module named 'mlinspect'",
     "output_type": "error",
     "traceback": [
      "\u001b[0;31m---------------------------------------------------------------------------\u001b[0m",
      "\u001b[0;31mModuleNotFoundError\u001b[0m                       Traceback (most recent call last)",
      "\u001b[0;32m<ipython-input-2-f31fdfa614b9>\u001b[0m in \u001b[0;36m<module>\u001b[0;34m\u001b[0m\n\u001b[1;32m      1\u001b[0m \u001b[0;32mimport\u001b[0m \u001b[0mos\u001b[0m\u001b[0;34m\u001b[0m\u001b[0;34m\u001b[0m\u001b[0m\n\u001b[0;32m----> 2\u001b[0;31m \u001b[0;32mfrom\u001b[0m \u001b[0mmlinspect\u001b[0m\u001b[0;34m.\u001b[0m\u001b[0mutils\u001b[0m \u001b[0;32mimport\u001b[0m \u001b[0mget_project_root\u001b[0m\u001b[0;34m\u001b[0m\u001b[0;34m\u001b[0m\u001b[0m\n\u001b[0m\u001b[1;32m      3\u001b[0m \u001b[0;34m\u001b[0m\u001b[0m\n\u001b[1;32m      4\u001b[0m \u001b[0;32mfrom\u001b[0m \u001b[0mmlinspect\u001b[0m \u001b[0;32mimport\u001b[0m \u001b[0mPipelineInspector\u001b[0m\u001b[0;34m\u001b[0m\u001b[0;34m\u001b[0m\u001b[0m\n\u001b[1;32m      5\u001b[0m \u001b[0;32mfrom\u001b[0m \u001b[0mmlinspect\u001b[0m\u001b[0;34m.\u001b[0m\u001b[0mchecks\u001b[0m \u001b[0;32mimport\u001b[0m \u001b[0mNoBiasIntroducedFor\u001b[0m\u001b[0;34m,\u001b[0m \u001b[0mNoIllegalFeatures\u001b[0m\u001b[0;34m\u001b[0m\u001b[0;34m\u001b[0m\u001b[0m\n",
      "\u001b[0;31mModuleNotFoundError\u001b[0m: No module named 'mlinspect'"
     ]
    }
   ],
   "source": [
    "import os\n",
    "from mlinspect.utils import get_project_root\n",
    "\n",
    "from mlinspect import PipelineInspector\n",
    "from mlinspect.checks import NoBiasIntroducedFor, NoIllegalFeatures\n",
    "from mlinspect.inspections import MaterializeFirstOutputRows\n",
    "\n",
    "ADULT_MOD_FILE_PY = os.path.join(str(get_project_root()), \"experiments\", \n",
    "                                 \"user_interviews\", \"adult_simple_modified.py\")\n",
    "\n",
    "inspector_result = PipelineInspector\\\n",
    "    .on_pipeline_from_py_file(ADULT_MOD_FILE_PY) \\\n",
    "    .add_check(NoBiasIntroducedFor([\"race\", \"sex\"])) \\\n",
    "    .add_check(NoIllegalFeatures()) \\\n",
    "    .add_required_inspection(MaterializeFirstOutputRows(5)) \\\n",
    "    .execute()\n",
    "\n",
    "extracted_dag = inspector_result.dag\n",
    "check_results = inspector_result.check_to_check_results\n",
    "inspection_results = inspector_result.inspection_to_annotations"
   ]
  },
  {
   "cell_type": "markdown",
   "metadata": {},
   "source": [
    "# Step 2/4: Overview of the check results\n",
    "## Did our check find issues?\n",
    "\n",
    "Let us look at the `check_result` to see our some check failed. We do this using the mlinspect utlity function `check_results_as_data_frame(...)`. We see that an issue was found, so we have to investigate it."
   ]
  },
  {
   "cell_type": "code",
   "execution_count": 3,
   "metadata": {},
   "outputs": [
    {
     "ename": "NameError",
     "evalue": "name 'PipelineInspector' is not defined",
     "output_type": "error",
     "traceback": [
      "\u001b[0;31m---------------------------------------------------------------------------\u001b[0m",
      "\u001b[0;31mNameError\u001b[0m                                 Traceback (most recent call last)",
      "\u001b[0;32m<ipython-input-3-a31997a0f827>\u001b[0m in \u001b[0;36m<module>\u001b[0;34m\u001b[0m\n\u001b[1;32m      3\u001b[0m \u001b[0mpd\u001b[0m\u001b[0;34m.\u001b[0m\u001b[0mset_option\u001b[0m\u001b[0;34m(\u001b[0m\u001b[0;34m'display.max_colwidth'\u001b[0m\u001b[0;34m,\u001b[0m \u001b[0;32mNone\u001b[0m\u001b[0;34m)\u001b[0m\u001b[0;34m\u001b[0m\u001b[0;34m\u001b[0m\u001b[0m\n\u001b[1;32m      4\u001b[0m \u001b[0;34m\u001b[0m\u001b[0m\n\u001b[0;32m----> 5\u001b[0;31m \u001b[0mcheck_result_df\u001b[0m \u001b[0;34m=\u001b[0m \u001b[0mPipelineInspector\u001b[0m\u001b[0;34m.\u001b[0m\u001b[0mcheck_results_as_data_frame\u001b[0m\u001b[0;34m(\u001b[0m\u001b[0mcheck_results\u001b[0m\u001b[0;34m)\u001b[0m\u001b[0;34m\u001b[0m\u001b[0;34m\u001b[0m\u001b[0m\n\u001b[0m\u001b[1;32m      6\u001b[0m \u001b[0mdisplay\u001b[0m\u001b[0;34m(\u001b[0m\u001b[0mcheck_result_df\u001b[0m\u001b[0;34m)\u001b[0m\u001b[0;34m\u001b[0m\u001b[0;34m\u001b[0m\u001b[0m\n",
      "\u001b[0;31mNameError\u001b[0m: name 'PipelineInspector' is not defined"
     ]
    }
   ],
   "source": [
    "from IPython.display import display\n",
    "import pandas as pd\n",
    "pd.set_option('display.max_colwidth', None)\n",
    "\n",
    "check_result_df = PipelineInspector.check_results_as_data_frame(check_results)\n",
    "display(check_result_df)"
   ]
  },
  {
   "cell_type": "markdown",
   "metadata": {},
   "source": [
    "A negative min_relative_ratio_change means that the ratio after the join is less than the original ratio\n",
    "\n",
    "https://github.com/stefan-grafberger/mlinspect/blob/19ca0d6ae8672249891835190c9e2d9d3c14f28f/mlinspect/checks/_no_bias_introduced_for.py"
   ]
  },
  {
   "cell_type": "markdown",
   "metadata": {},
   "source": [
    "# Step 3/4: List of operations that could change the distribution \n",
    "\n",
    "As stated before, only some operations like selections, joins and missing value imputation can change the distribution. Our check already filtered all operators that can cause data distribution issues. We can use the mlinspect utility function `get_distribution_changes_overview_as_df(...)` to get an overview. The overview already tells us that mlinspect detected a potential issue caused by a JOIN involving the gender attribute. Note that the automatic issue detection from mlinspect is only as good as its configuration and should not be completely relied upon."
   ]
  },
  {
   "cell_type": "code",
   "execution_count": 4,
   "metadata": {},
   "outputs": [
    {
     "ename": "NameError",
     "evalue": "name 'check_results' is not defined",
     "output_type": "error",
     "traceback": [
      "\u001b[0;31m---------------------------------------------------------------------------\u001b[0m",
      "\u001b[0;31mNameError\u001b[0m                                 Traceback (most recent call last)",
      "\u001b[0;32m<ipython-input-4-019756ebf470>\u001b[0m in \u001b[0;36m<module>\u001b[0;34m\u001b[0m\n\u001b[0;32m----> 1\u001b[0;31m \u001b[0mno_bias_check_result\u001b[0m \u001b[0;34m=\u001b[0m \u001b[0mcheck_results\u001b[0m\u001b[0;34m[\u001b[0m\u001b[0mNoBiasIntroducedFor\u001b[0m\u001b[0;34m(\u001b[0m\u001b[0;34m[\u001b[0m\u001b[0;34m\"race\"\u001b[0m\u001b[0;34m,\u001b[0m \u001b[0;34m\"sex\"\u001b[0m\u001b[0;34m]\u001b[0m\u001b[0;34m)\u001b[0m\u001b[0;34m]\u001b[0m\u001b[0;34m\u001b[0m\u001b[0;34m\u001b[0m\u001b[0m\n\u001b[0m\u001b[1;32m      2\u001b[0m \u001b[0;34m\u001b[0m\u001b[0m\n\u001b[1;32m      3\u001b[0m \u001b[0mdistribution_changes_overview_df\u001b[0m \u001b[0;34m=\u001b[0m \u001b[0mNoBiasIntroducedFor\u001b[0m\u001b[0;34m.\u001b[0m\u001b[0mget_distribution_changes_overview_as_df\u001b[0m\u001b[0;34m(\u001b[0m\u001b[0mno_bias_check_result\u001b[0m\u001b[0;34m)\u001b[0m\u001b[0;34m\u001b[0m\u001b[0;34m\u001b[0m\u001b[0m\n\u001b[1;32m      4\u001b[0m \u001b[0mdisplay\u001b[0m\u001b[0;34m(\u001b[0m\u001b[0mdistribution_changes_overview_df\u001b[0m\u001b[0;34m)\u001b[0m\u001b[0;34m\u001b[0m\u001b[0;34m\u001b[0m\u001b[0m\n\u001b[1;32m      5\u001b[0m \u001b[0;34m\u001b[0m\u001b[0m\n",
      "\u001b[0;31mNameError\u001b[0m: name 'check_results' is not defined"
     ]
    }
   ],
   "source": [
    "no_bias_check_result = check_results[NoBiasIntroducedFor([\"race\", \"sex\"])]\n",
    "\n",
    "distribution_changes_overview_df = NoBiasIntroducedFor.get_distribution_changes_overview_as_df(no_bias_check_result)\n",
    "display(distribution_changes_overview_df)\n",
    "\n",
    "dag_node_distribution_changes_list = list(no_bias_check_result.bias_distribution_change.items())"
   ]
  },
  {
   "cell_type": "markdown",
   "metadata": {},
   "source": [
    "# Step 4/4 Detailed Investigation"
   ]
  },
  {
   "cell_type": "markdown",
   "metadata": {},
   "source": [
    "### NoBiasIntroduced\n",
    "Now that we know of the potential issue, we will take a look at the histograms before and after the JOIN. We can use `distribution_change.before_and_after_df` to look at the data in form of a `pandas.DataFrame` or use the mlinspect utility function `plot_distribution_change_histograms(...)` to plot the histograms. "
   ]
  },
  {
   "cell_type": "code",
   "execution_count": 5,
   "metadata": {},
   "outputs": [
    {
     "ename": "NameError",
     "evalue": "name 'dag_node_distribution_changes_list' is not defined",
     "output_type": "error",
     "traceback": [
      "\u001b[0;31m---------------------------------------------------------------------------\u001b[0m",
      "\u001b[0;31mNameError\u001b[0m                                 Traceback (most recent call last)",
      "\u001b[0;32m<ipython-input-5-d9bb0ff5a4b1>\u001b[0m in \u001b[0;36m<module>\u001b[0;34m\u001b[0m\n\u001b[1;32m      1\u001b[0m \u001b[0;31m# Select the DagNode we want to look at by index\u001b[0m\u001b[0;34m\u001b[0m\u001b[0;34m\u001b[0m\u001b[0;34m\u001b[0m\u001b[0m\n\u001b[0;32m----> 2\u001b[0;31m \u001b[0mdag_node\u001b[0m\u001b[0;34m,\u001b[0m \u001b[0mnode_distribution_changes\u001b[0m \u001b[0;34m=\u001b[0m \u001b[0mdag_node_distribution_changes_list\u001b[0m\u001b[0;34m[\u001b[0m\u001b[0;36m0\u001b[0m\u001b[0;34m]\u001b[0m\u001b[0;34m\u001b[0m\u001b[0;34m\u001b[0m\u001b[0m\n\u001b[0m\u001b[1;32m      3\u001b[0m \u001b[0;34m\u001b[0m\u001b[0m\n\u001b[1;32m      4\u001b[0m \u001b[0;31m# Investige the changes\u001b[0m\u001b[0;34m\u001b[0m\u001b[0;34m\u001b[0m\u001b[0;34m\u001b[0m\u001b[0m\n\u001b[1;32m      5\u001b[0m \u001b[0mprint\u001b[0m\u001b[0;34m(\u001b[0m\u001b[0;34m\"\\033[1m{}: {}\\033[0m\"\u001b[0m\u001b[0;34m.\u001b[0m\u001b[0mformat\u001b[0m\u001b[0;34m(\u001b[0m\u001b[0mdag_node\u001b[0m\u001b[0;34m.\u001b[0m\u001b[0moperator_type\u001b[0m\u001b[0;34m,\u001b[0m \u001b[0mdag_node\u001b[0m\u001b[0;34m.\u001b[0m\u001b[0msource_code\u001b[0m\u001b[0;34m)\u001b[0m\u001b[0;34m)\u001b[0m\u001b[0;34m\u001b[0m\u001b[0;34m\u001b[0m\u001b[0m\n",
      "\u001b[0;31mNameError\u001b[0m: name 'dag_node_distribution_changes_list' is not defined"
     ]
    }
   ],
   "source": [
    "# Select the DagNode we want to look at by index\n",
    "dag_node, node_distribution_changes = dag_node_distribution_changes_list[0]\n",
    "\n",
    "# Investige the changes\n",
    "print(\"\\033[1m{}: {}\\033[0m\".format(dag_node.operator_type, dag_node.source_code))\n",
    "for column, distribution_change in node_distribution_changes.items():\n",
    "    print(\"\")\n",
    "    print(\"\\033[1m Column '{}'\\033[0m, acceptable change: {}, min_relative_ratio_change: {}\".format(column, distribution_change.acceptable_change, distribution_change.min_relative_ratio_change))\n",
    "    display(distribution_change.before_and_after_df)\n",
    "    NoBiasIntroducedFor.plot_distribution_change_histograms(distribution_change)"
   ]
  },
  {
   "cell_type": "markdown",
   "metadata": {},
   "source": [
    "### Use of illegal features: \n",
    "\n",
    "https://github.com/stefan-grafberger/mlinspect/blob/19ca0d6ae8672249891835190c9e2d9d3c14f28f/mlinspect/checks/_no_illegal_features.py"
   ]
  },
  {
   "cell_type": "code",
   "execution_count": 6,
   "metadata": {},
   "outputs": [
    {
     "ename": "NameError",
     "evalue": "name 'check_results' is not defined",
     "output_type": "error",
     "traceback": [
      "\u001b[0;31m---------------------------------------------------------------------------\u001b[0m",
      "\u001b[0;31mNameError\u001b[0m                                 Traceback (most recent call last)",
      "\u001b[0;32m<ipython-input-6-276f6ea874a2>\u001b[0m in \u001b[0;36m<module>\u001b[0;34m\u001b[0m\n\u001b[0;32m----> 1\u001b[0;31m \u001b[0mfeature_check_result\u001b[0m \u001b[0;34m=\u001b[0m \u001b[0mcheck_results\u001b[0m\u001b[0;34m[\u001b[0m\u001b[0mNoIllegalFeatures\u001b[0m\u001b[0;34m(\u001b[0m\u001b[0;34m)\u001b[0m\u001b[0;34m]\u001b[0m\u001b[0;34m\u001b[0m\u001b[0;34m\u001b[0m\u001b[0m\n\u001b[0m\u001b[1;32m      2\u001b[0m \u001b[0mprint\u001b[0m\u001b[0;34m(\u001b[0m\u001b[0;34m\"Used illegal features: {}\"\u001b[0m\u001b[0;34m.\u001b[0m\u001b[0mformat\u001b[0m\u001b[0;34m(\u001b[0m\u001b[0mfeature_check_result\u001b[0m\u001b[0;34m.\u001b[0m\u001b[0millegal_features\u001b[0m\u001b[0;34m)\u001b[0m\u001b[0;34m)\u001b[0m\u001b[0;34m\u001b[0m\u001b[0;34m\u001b[0m\u001b[0m\n",
      "\u001b[0;31mNameError\u001b[0m: name 'check_results' is not defined"
     ]
    }
   ],
   "source": [
    "feature_check_result = check_results[NoIllegalFeatures()]\n",
    "print(\"Used illegal features: {}\".format(feature_check_result.illegal_features))"
   ]
  },
  {
   "cell_type": "markdown",
   "metadata": {},
   "source": [
    "### MaterializeFirstOutputRows\n",
    "For each operator, the MaterializeFirstOutputRows materialized the first 5 output rows. Especially for scikit-learn pipelines, it requires custom debugging code if a user just wants to look at some intermediate results ([see example stackoverflow post](https://stackoverflow.com/questions/34802465/sklearn-is-there-any-way-to-debug-pipelines)). Using mlinspect, this becomes easy. We can look at the input and output of arbitrary featurizers like OneHotEncoders or Word2Vec models.\n",
    "\n",
    "Here, we use this functionality to look at the output of a OneHotEncoder and the imputer right before it. For this, we only need to look at the inspection result for the corresponding Dag nodes."
   ]
  },
  {
   "cell_type": "code",
   "execution_count": 7,
   "metadata": {},
   "outputs": [
    {
     "ename": "NameError",
     "evalue": "name 'inspection_results' is not defined",
     "output_type": "error",
     "traceback": [
      "\u001b[0;31m---------------------------------------------------------------------------\u001b[0m",
      "\u001b[0;31mNameError\u001b[0m                                 Traceback (most recent call last)",
      "\u001b[0;32m<ipython-input-7-fae1b7ee9f44>\u001b[0m in \u001b[0;36m<module>\u001b[0;34m\u001b[0m\n\u001b[1;32m      1\u001b[0m \u001b[0;32mfrom\u001b[0m \u001b[0mIPython\u001b[0m\u001b[0;34m.\u001b[0m\u001b[0mdisplay\u001b[0m \u001b[0;32mimport\u001b[0m \u001b[0mdisplay\u001b[0m\u001b[0;34m\u001b[0m\u001b[0;34m\u001b[0m\u001b[0m\n\u001b[1;32m      2\u001b[0m \u001b[0;34m\u001b[0m\u001b[0m\n\u001b[0;32m----> 3\u001b[0;31m \u001b[0mfirst_rows_inspection_result\u001b[0m \u001b[0;34m=\u001b[0m \u001b[0minspection_results\u001b[0m\u001b[0;34m[\u001b[0m\u001b[0mMaterializeFirstOutputRows\u001b[0m\u001b[0;34m(\u001b[0m\u001b[0;36m5\u001b[0m\u001b[0;34m)\u001b[0m\u001b[0;34m]\u001b[0m\u001b[0;34m\u001b[0m\u001b[0;34m\u001b[0m\u001b[0m\n\u001b[0m\u001b[1;32m      4\u001b[0m \u001b[0;34m\u001b[0m\u001b[0m\n\u001b[1;32m      5\u001b[0m relevant_nodes = [node for node in extracted_dag.nodes if node.description in {\n",
      "\u001b[0;31mNameError\u001b[0m: name 'inspection_results' is not defined"
     ]
    }
   ],
   "source": [
    "from IPython.display import display\n",
    "\n",
    "first_rows_inspection_result = inspection_results[MaterializeFirstOutputRows(5)]\n",
    "\n",
    "relevant_nodes = [node for node in extracted_dag.nodes if node.description in {\n",
    "    \"Categorical Encoder (OneHotEncoder), Column: 'education'\", \"Categorical Encoder (OneHotEncoder), Column: 'workclass'\" }]\n",
    "\n",
    "for dag_node in relevant_nodes:\n",
    "    if dag_node in first_rows_inspection_result and first_rows_inspection_result[dag_node] is not None:\n",
    "        print(\"\\n\\033[1m{} ({})\\033[0m\\n{}\\n{}\".format(\n",
    "            dag_node.operator_type, dag_node.description, dag_node.source_code, dag_node.code_reference))\n",
    "        display(first_rows_inspection_result[dag_node])"
   ]
  },
  {
   "cell_type": "markdown",
   "metadata": {},
   "source": [
    "### Question: Did we find operators that introduce bias? How did the distribution of demographic groups change? \n",
    "**Write down your answer here:** "
   ]
  },
  {
   "cell_type": "markdown",
   "metadata": {},
   "source": [
    "#### Question: Can missing value imputation cause bias? If so, how?\n",
    "**Write down your answer here:**"
   ]
  }
 ],
 "metadata": {
  "kernelspec": {
   "display_name": "Python 3",
   "language": "python",
   "name": "python3"
  },
  "language_info": {
   "codemirror_mode": {
    "name": "ipython",
    "version": 3
   },
   "file_extension": ".py",
   "mimetype": "text/x-python",
   "name": "python",
   "nbconvert_exporter": "python",
   "pygments_lexer": "ipython3",
   "version": "3.8.3"
  }
 },
 "nbformat": 4,
 "nbformat_minor": 4
}
